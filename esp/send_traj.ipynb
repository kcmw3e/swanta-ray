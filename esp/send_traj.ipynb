{
 "cells": [
  {
   "cell_type": "code",
   "execution_count": 29,
   "metadata": {},
   "outputs": [],
   "source": [
    "import requests\n",
    "import csv"
   ]
  },
  {
   "cell_type": "code",
   "execution_count": 30,
   "metadata": {},
   "outputs": [],
   "source": [
    "def send_traj(index, timestamp, servo_positions):\n",
    "    url = 'http://swanta.wifi.local.cmu.edu/set-traj'\n",
    "    r = requests.post(url, data={'index': index, 'timestamp': timestamp, 'positions': str(servo_positions)})\n",
    "    return r\n",
    "\n",
    "def set_traj_length(length):\n",
    "    url = 'http://swanta.wifi.local.cmu.edu/set-traj-len'\n",
    "    r = requests.post(url, data={'length': length})\n",
    "    return r\n",
    "\n",
    "def start():\n",
    "    url = 'http://swanta.wifi.local.cmu.edu/start'\n",
    "    r = requests.post(url)\n",
    "    return r\n",
    "\n",
    "def stop():\n",
    "    url = 'http://swanta.wifi.local.cmu.edu/stop'\n",
    "    r = requests.post(url)\n",
    "    return r"
   ]
  },
  {
   "cell_type": "code",
   "execution_count": 79,
   "metadata": {},
   "outputs": [],
   "source": [
    "CSV_FILENAME = \"gait_und.csv\"\n",
    "TRAJ_SPEED = 200\n",
    "\n",
    "set_traj_length(125)\n",
    "\n",
    "with open(CSV_FILENAME, 'r') as csvfile:\n",
    "    reader = csv.reader(csvfile, delimiter=',')\n",
    "    index=0\n",
    "    for row in list(reader)[::8]:\n",
    "        timestamp = float(index) / TRAJ_SPEED\n",
    "        servo_positions = [int(x) for x in row] * 2\n",
    "        # print(\"Sending trajectory index %d with timestamp %f and servo positions %s\" % (index, timestamp, str(servo_positions)))\n",
    "        r = send_traj(index, timestamp, servo_positions)\n",
    "        index += 1"
   ]
  },
  {
   "cell_type": "code",
   "execution_count": 80,
   "metadata": {},
   "outputs": [
    {
     "data": {
      "text/plain": [
       "<Response [200]>"
      ]
     },
     "execution_count": 80,
     "metadata": {},
     "output_type": "execute_result"
    }
   ],
   "source": [
    "start()"
   ]
  },
  {
   "cell_type": "code",
   "execution_count": 81,
   "metadata": {},
   "outputs": [
    {
     "data": {
      "text/plain": [
       "<Response [200]>"
      ]
     },
     "execution_count": 81,
     "metadata": {},
     "output_type": "execute_result"
    }
   ],
   "source": [
    "stop()"
   ]
  }
 ],
 "metadata": {
  "kernelspec": {
   "display_name": "Python 3",
   "language": "python",
   "name": "python3"
  },
  "language_info": {
   "codemirror_mode": {
    "name": "ipython",
    "version": 3
   },
   "file_extension": ".py",
   "mimetype": "text/x-python",
   "name": "python",
   "nbconvert_exporter": "python",
   "pygments_lexer": "ipython3",
   "version": "3.10.9"
  },
  "orig_nbformat": 4
 },
 "nbformat": 4,
 "nbformat_minor": 2
}
