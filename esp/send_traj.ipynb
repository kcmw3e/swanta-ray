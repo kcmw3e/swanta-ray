{
 "cells": [
  {
   "cell_type": "code",
   "execution_count": 56,
   "metadata": {},
   "outputs": [],
   "source": [
    "import requests\n",
    "import csv\n",
    "import time\n",
    "import os"
   ]
  },
  {
   "cell_type": "code",
   "execution_count": 2,
   "metadata": {},
   "outputs": [],
   "source": [
    "def send_traj(index, timestamp, servo_positions):\n",
    "    url = 'http://swanta.wifi.local.cmu.edu/set-traj'\n",
    "    r = requests.post(url, data={'index': index, 'timestamp': timestamp, 'positions': str(servo_positions)})\n",
    "    return r\n",
    "\n",
    "def set_traj_length(length):\n",
    "    url = 'http://swanta.wifi.local.cmu.edu/set-traj-len'\n",
    "    r = requests.post(url, data={'length': length})\n",
    "    return r\n",
    "\n",
    "def start():\n",
    "    url = 'http://swanta.wifi.local.cmu.edu/start'\n",
    "    r = requests.post(url)\n",
    "    return r\n",
    "\n",
    "def stop():\n",
    "    url = 'http://swanta.wifi.local.cmu.edu/stop'\n",
    "    r = requests.post(url)\n",
    "    return r"
   ]
  },
  {
   "cell_type": "code",
   "execution_count": 87,
   "metadata": {},
   "outputs": [],
   "source": [
    "CSV_FILENAME = \"gait_0.150Hz_1.250wn.csv\"\n",
    "TRAJ_SPEED = 1\n",
    "\n",
    "set_traj_length(125)\n",
    "\n",
    "with open(CSV_FILENAME, 'r') as csvfile:\n",
    "    reader = csv.reader(csvfile, delimiter=',')\n",
    "    index=0\n",
    "    for row in list(reader)[::8]:\n",
    "        timestamp = float(row[0]) / TRAJ_SPEED\n",
    "        servo_positions = [float(x) for x in row[1:]] * 2\n",
    "        # print(\"Sending trajectory index %d with timestamp %f and servo positions %s\" % (index, timestamp, str(servo_positions)))\n",
    "        r = send_traj(index, timestamp, servo_positions)\n",
    "        index += 1"
   ]
  },
  {
   "cell_type": "code",
   "execution_count": 53,
   "metadata": {},
   "outputs": [
    {
     "data": {
      "text/plain": [
       "<Response [200]>"
      ]
     },
     "execution_count": 53,
     "metadata": {},
     "output_type": "execute_result"
    }
   ],
   "source": [
    "start()\n",
    "time.sleep(20)\n",
    "stop()"
   ]
  },
  {
   "cell_type": "code",
   "execution_count": 89,
   "metadata": {},
   "outputs": [
    {
     "data": {
      "text/plain": [
       "<Response [200]>"
      ]
     },
     "execution_count": 89,
     "metadata": {},
     "output_type": "execute_result"
    }
   ],
   "source": [
    "start()"
   ]
  },
  {
   "cell_type": "code",
   "execution_count": 90,
   "metadata": {},
   "outputs": [
    {
     "data": {
      "text/plain": [
       "<Response [200]>"
      ]
     },
     "execution_count": 90,
     "metadata": {},
     "output_type": "execute_result"
    }
   ],
   "source": [
    "stop()"
   ]
  },
  {
   "cell_type": "code",
   "execution_count": 91,
   "metadata": {},
   "outputs": [
    {
     "name": "stdout",
     "output_type": "stream",
     "text": [
      "\u001b[2KRunning file 0 of 16:\tgait_0.150Hz_0.250wn.csv\t    Done!\n",
      "\u001b[2KRunning file 1 of 16:\tgait_0.150Hz_1.250wn.csv\t    Done!\n",
      "\u001b[2KRunning file 2 of 16:\tgait_0.250Hz_0.250wn.csv\t    Done!\n",
      "\u001b[2KRunning file 3 of 16:\tgait_0.250Hz_0.350wn.csv\t    Done!\n",
      "\u001b[2KRunning file 4 of 16:\tgait_0.250Hz_0.500wn.csv\t    Done!\n",
      "\u001b[2KRunning file 5 of 16:\tgait_0.250Hz_0.650wn.csv\t    Done!\n",
      "\u001b[2KRunning file 6 of 16:\tgait_0.250Hz_0.850wn.csv\t    Done!\n",
      "\u001b[2KRunning file 7 of 16:\tgait_0.250Hz_1.000wn.csv\t    Done!\n",
      "\u001b[2KRunning file 8 of 16:\tgait_0.250Hz_1.150wn.csv\t    Done!\n",
      "\u001b[2KRunning file 9 of 16:\tgait_0.350Hz_0.500wn.csv\t    Done!\n",
      "\u001b[2KRunning file 10 of 16:\tgait_0.350Hz_0.750wn.csv\t    Done!\n",
      "\u001b[2KRunning file 11 of 16:\tgait_0.350Hz_1.000wn.csv\t    Done!\n",
      "\u001b[2KRunning file 12 of 16:\tgait_0.750Hz_0.750wn.csv\t    Done!\n",
      "\u001b[2KRunning file 13 of 16:\tgait_1.000Hz_0.400wn.csv\t    Done!\n",
      "\u001b[2KRunning file 14 of 16:\tgait_1.000Hz_0.750wn.csv\t    Done!\n",
      "\u001b[2KRunning file 15 of 16:\tgait_1.000Hz_1.100wn.csv\t    Done!\n"
     ]
    }
   ],
   "source": [
    "# Loop through all CSV files in the current directory\n",
    "files = []\n",
    "\n",
    "for filename in os.listdir(\".\"):\n",
    "    if filename.endswith(\"wn.csv\"):\n",
    "        files.append(filename)\n",
    "\n",
    "files.sort()\n",
    "\n",
    "TRAJ_SPEED = 1\n",
    "\n",
    "for i,f in enumerate(files):\n",
    "    print(f\"Uploading file {i} of {len(files)}:\\t{f}\", end=\"\\r\")\n",
    "\n",
    "    set_traj_length(1000)\n",
    "    with open(CSV_FILENAME, 'r') as csvfile:\n",
    "        reader = csv.reader(csvfile, delimiter=',')\n",
    "        index=0\n",
    "        for row in list(reader)[::]:\n",
    "            timestamp = float(row[0]) / TRAJ_SPEED\n",
    "            servo_positions = [float(x) for x in row[1:]] * 2\n",
    "            # print(\"Sending trajectory index %d with timestamp %f and servo positions %s\" % (index, timestamp, str(servo_positions)))\n",
    "            r = send_traj(index, timestamp, servo_positions)\n",
    "            index += 1\n",
    "\n",
    "    for k in range(10, 0, -1):\n",
    "        print(f\"Starting file {i} of {len(files)}:\\t{f}\\tin {k}  \", end=\"\\r\")\n",
    "        time.sleep(1)\n",
    "    print(end='\\x1b[2K')\n",
    "    print(f\"Running file {i} of {len(files)}:\\t{f}\\t \", end=\"\")\n",
    "\n",
    "    start()\n",
    "    time.sleep(60)\n",
    "    stop()\n",
    "    print(\"Done!\")\n",
    "    time.sleep(1)\n",
    "\n"
   ]
  },
  {
   "cell_type": "code",
   "execution_count": null,
   "metadata": {},
   "outputs": [],
   "source": []
  }
 ],
 "metadata": {
  "kernelspec": {
   "display_name": "Python 3",
   "language": "python",
   "name": "python3"
  },
  "language_info": {
   "codemirror_mode": {
    "name": "ipython",
    "version": 3
   },
   "file_extension": ".py",
   "mimetype": "text/x-python",
   "name": "python",
   "nbconvert_exporter": "python",
   "pygments_lexer": "ipython3",
   "version": "3.10.9"
  },
  "orig_nbformat": 4
 },
 "nbformat": 4,
 "nbformat_minor": 2
}
