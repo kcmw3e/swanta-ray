{
 "cells": [
  {
   "cell_type": "code",
   "execution_count": 1,
   "metadata": {},
   "outputs": [],
   "source": [
    "import requests\n",
    "import csv"
   ]
  },
  {
   "cell_type": "code",
   "execution_count": 2,
   "metadata": {},
   "outputs": [],
   "source": [
    "def send_traj(index, timestamp, servo_positions):\n",
    "    url = 'http://swanta.wifi.local.cmu.edu/set-traj'\n",
    "    r = requests.post(url, data={'index': index, 'timestamp': timestamp, 'positions': str(servo_positions)})\n",
    "    return r\n",
    "\n",
    "def set_traj_length(length):\n",
    "    url = 'http://swanta.wifi.local.cmu.edu/set-traj-len'\n",
    "    r = requests.post(url, data={'length': length})\n",
    "    return r\n",
    "\n",
    "def start():\n",
    "    url = 'http://swanta.wifi.local.cmu.edu/start'\n",
    "    r = requests.post(url)\n",
    "    return r\n",
    "\n",
    "def stop():\n",
    "    url = 'http://swanta.wifi.local.cmu.edu/stop'\n",
    "    r = requests.post(url)\n",
    "    return r"
   ]
  },
  {
   "cell_type": "code",
   "execution_count": 40,
   "metadata": {},
   "outputs": [],
   "source": [
    "# CSV_FILENAME = \"gait_und_t1.csv\"\n",
    "CSV_FILENAME = \"gait_osc_t1.csv\"\n",
    "TRAJ_SPEED = 3\n",
    "\n",
    "set_traj_length(250)\n",
    "\n",
    "with open(CSV_FILENAME, 'r') as csvfile:\n",
    "    reader = csv.reader(csvfile, delimiter=',')\n",
    "    index=0\n",
    "    for row in list(reader)[::4]:\n",
    "        timestamp = float(row[0]) / TRAJ_SPEED\n",
    "        servo_positions = [float(x) for x in row[1:]] * 2\n",
    "        # print(\"Sending trajectory index %d with timestamp %f and servo positions %s\" % (index, timestamp, str(servo_positions)))\n",
    "        r = send_traj(index, timestamp, servo_positions)\n",
    "        index += 1"
   ]
  },
  {
   "cell_type": "code",
   "execution_count": 41,
   "metadata": {},
   "outputs": [
    {
     "data": {
      "text/plain": [
       "<Response [200]>"
      ]
     },
     "execution_count": 41,
     "metadata": {},
     "output_type": "execute_result"
    }
   ],
   "source": [
    "start()"
   ]
  },
  {
   "cell_type": "code",
   "execution_count": 43,
   "metadata": {},
   "outputs": [],
   "source": [
    "stop()"
   ]
  }
 ],
 "metadata": {
  "kernelspec": {
   "display_name": "Python 3",
   "language": "python",
   "name": "python3"
  },
  "language_info": {
   "codemirror_mode": {
    "name": "ipython",
    "version": 3
   },
   "file_extension": ".py",
   "mimetype": "text/x-python",
   "name": "python",
   "nbconvert_exporter": "python",
   "pygments_lexer": "ipython3",
   "version": "3.10.9"
  },
  "orig_nbformat": 4
 },
 "nbformat": 4,
 "nbformat_minor": 2
}
